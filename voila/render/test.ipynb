{
 "cells": [
  {
   "cell_type": "code",
   "execution_count": 1,
   "id": "5f8060ee-3b86-4580-8197-493d97dcf849",
   "metadata": {
    "execution": {
     "iopub.execute_input": "2022-08-22T04:11:42.473599Z",
     "iopub.status.busy": "2022-08-22T04:11:42.472989Z",
     "iopub.status.idle": "2022-08-22T04:11:42.516365Z",
     "shell.execute_reply": "2022-08-22T04:11:42.515936Z",
     "shell.execute_reply.started": "2022-08-22T04:11:42.473547Z"
    }
   },
   "outputs": [
    {
     "data": {
      "application/vnd.jupyter.widget-view+json": {
       "model_id": "3409ec70a7414018ad00fddc1e90ec16",
       "version_major": 2,
       "version_minor": 0
      },
      "text/plain": [
       "interactive(children=(Dropdown(description='name', options=('Jim', 'Emma', 'Bond'), value='Jim'), Output()), _…"
      ]
     },
     "metadata": {},
     "output_type": "display_data"
    }
   ],
   "source": [
    "import ipywidgets as widgets\n",
    "\n",
    "def say_my_name(name):\n",
    "    \"\"\"\n",
    "    Print the current widget value in short sentence\n",
    "    \"\"\"\n",
    "    print(f'My name is {name}')\n",
    "     \n",
    "widgets.interact(say_my_name, name=[\"Jim\", \"Emma\", \"Bond\"]);"
   ]
  },
  {
   "cell_type": "code",
   "execution_count": null,
   "id": "19241969-da51-4588-a853-1feb3df69e99",
   "metadata": {},
   "outputs": [],
   "source": []
  }
 ],
 "metadata": {
  "kernelspec": {
   "display_name": "Python [conda env:root] *",
   "language": "python",
   "name": "conda-root-py"
  },
  "language_info": {
   "codemirror_mode": {
    "name": "ipython",
    "version": 3
   },
   "file_extension": ".py",
   "mimetype": "text/x-python",
   "name": "python",
   "nbconvert_exporter": "python",
   "pygments_lexer": "ipython3",
   "version": "3.9.10"
  }
 },
 "nbformat": 4,
 "nbformat_minor": 5
}
